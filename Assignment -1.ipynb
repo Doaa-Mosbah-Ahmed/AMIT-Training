{
 "cells": [
  {
   "cell_type": "code",
   "execution_count": 8,
   "id": "9226c9d0",
   "metadata": {},
   "outputs": [
    {
     "name": "stdout",
     "output_type": "stream",
     "text": [
      "enter two separate number:5 6\n",
      "first number x =: 5\n",
      "second number y =: 6\n",
      " x, y = :  ('5', '6')\n"
     ]
    }
   ],
   "source": [
    "#split:A function that splits data and sets each given parameter equal to the Numbers which i entered \n",
    "\n",
    "x,y=str(input('enter two separate number:')).split()   #enter two numbers\n",
    "\n",
    "print (\"first number x =:\", x )         #define the 1st no. name is x\n",
    "\n",
    "print (\"second number y =:\", y )          #define the 2nd no. name is y\n",
    "\n",
    "print(\" x, y = : \", (x, y))                   # the two number is respectively     "
   ]
  },
  {
   "cell_type": "code",
   "execution_count": null,
   "id": "7acf1b75",
   "metadata": {},
   "outputs": [],
   "source": []
  }
 ],
 "metadata": {
  "kernelspec": {
   "display_name": "Python 3 (ipykernel)",
   "language": "python",
   "name": "python3"
  },
  "language_info": {
   "codemirror_mode": {
    "name": "ipython",
    "version": 3
   },
   "file_extension": ".py",
   "mimetype": "text/x-python",
   "name": "python",
   "nbconvert_exporter": "python",
   "pygments_lexer": "ipython3",
   "version": "3.9.7"
  }
 },
 "nbformat": 4,
 "nbformat_minor": 5
}
