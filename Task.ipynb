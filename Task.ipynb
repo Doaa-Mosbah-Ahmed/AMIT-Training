{
 "cells": [
  {
   "cell_type": "code",
   "execution_count": 5,
   "id": "f311a15a",
   "metadata": {},
   "outputs": [
    {
     "name": "stdout",
     "output_type": "stream",
     "text": [
      "d\n",
      "\n",
      "n\n",
      "\n",
      "f\n",
      "\n",
      "123\n"
     ]
    }
   ],
   "source": [
    "f= open (\"C:/Users/Doaa/Desktop/test.txt\",\"r\")  # open bft7 beha l text.txt file bs\n",
    "                  # r :read(mode)\n",
    "all_lines = f.readlines()\n",
    "\n",
    "for line in all_lines:   #used in natural language processing\n",
    "    print(line)\n",
    "    "
   ]
  },
  {
   "cell_type": "code",
   "execution_count": 6,
   "id": "499ac1b7",
   "metadata": {},
   "outputs": [
    {
     "name": "stdout",
     "output_type": "stream",
     "text": [
      "<_io.TextIOWrapper name='C:/Users/Doaa/Desktop/test.txt' mode='r' encoding='cp1252'>\n"
     ]
    }
   ],
   "source": [
    "def data():  \n",
    "    fst_name =input(\"enter fst name\")\n",
    "    last_name =input(\"enter last name\")\n",
    "    G =input(\"enter the gender\")\n",
    "    Id = input('enter id')\n",
    "    if len(Id)>3:\n",
    "        print(\"wrong\")\n",
    "    else:\n",
    "        f=open(\"C:/Users/Doaa/Desktop/test.txt\",'w')\n",
    "        f.write (fst_name+ '\\n')\n",
    "        f.write (last_name+ '\\n')\n",
    "        f.write (G+ '\\n')\n",
    "        f.write (Id)\n",
    "print(f)"
   ]
  },
  {
   "cell_type": "code",
   "execution_count": 7,
   "id": "55dce8f4",
   "metadata": {},
   "outputs": [
    {
     "name": "stdout",
     "output_type": "stream",
     "text": [
      "enter fst nameD\n",
      "enter last nameM\n",
      "enter the genderF\n",
      "enter id123\n"
     ]
    }
   ],
   "source": [
    "data()"
   ]
  },
  {
   "cell_type": "code",
   "execution_count": null,
   "id": "17e9829c",
   "metadata": {},
   "outputs": [],
   "source": []
  },
  {
   "cell_type": "code",
   "execution_count": null,
   "id": "c2ea321c",
   "metadata": {},
   "outputs": [],
   "source": []
  }
 ],
 "metadata": {
  "kernelspec": {
   "display_name": "Python 3 (ipykernel)",
   "language": "python",
   "name": "python3"
  },
  "language_info": {
   "codemirror_mode": {
    "name": "ipython",
    "version": 3
   },
   "file_extension": ".py",
   "mimetype": "text/x-python",
   "name": "python",
   "nbconvert_exporter": "python",
   "pygments_lexer": "ipython3",
   "version": "3.9.7"
  }
 },
 "nbformat": 4,
 "nbformat_minor": 5
}
