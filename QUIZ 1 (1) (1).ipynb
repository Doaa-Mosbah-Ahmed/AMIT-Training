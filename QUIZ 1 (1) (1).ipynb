{
 "cells": [
  {
   "cell_type": "markdown",
   "metadata": {
    "collapsed": true
   },
   "source": [
    "# QUIZ\n",
    "Let's test your knowledge!"
   ]
  },
  {
   "cell_type": "markdown",
   "metadata": {},
   "source": [
    "_____\n",
    "**Use <code>for</code>, .split(), and <code>if</code> to create a Statement that will print out words that start with 's':**"
   ]
  },
  {
   "cell_type": "code",
   "execution_count": 5,
   "metadata": {},
   "outputs": [],
   "source": [
    "st = 'Print only the words that start with s in this sentence'"
   ]
  },
  {
   "cell_type": "code",
   "execution_count": 76,
   "metadata": {},
   "outputs": [
    {
     "name": "stdout",
     "output_type": "stream",
     "text": [
      "start\n",
      "s\n",
      "sentence\n"
     ]
    }
   ],
   "source": [
    "#Code here\"Print only the words that start with s in this sentence \"\n",
    "\n",
    "st=('Print only the words that start with s in this sentence')\n",
    "\n",
    "for word in st.split(): # splits is a string into a list and You can specify the separator letters\n",
    "    \n",
    "    if word[0] == \"s\":   #choose the letter s from location of all words  \n",
    "        \n",
    "        print(word)   #print word"
   ]
  },
  {
   "cell_type": "markdown",
   "metadata": {},
   "source": [
    "______\n",
    "**Use range() to print all the even numbers from 0 to 10.**"
   ]
  },
  {
   "cell_type": "code",
   "execution_count": 19,
   "metadata": {},
   "outputs": [
    {
     "name": "stdout",
     "output_type": "stream",
     "text": [
      "0\n",
      "2\n",
      "4\n",
      "6\n",
      "8\n"
     ]
    }
   ],
   "source": [
    "x=range(0,10)    #put the range of numbers from 0 to 10\n",
    "\n",
    "for number in x:  \n",
    "    \n",
    "    if number % 2==0:  #if the number divieded by 2 print it\n",
    "        \n",
    "        print('{}' .format(number))  #{} is the space format , print the even number   "
   ]
  },
  {
   "cell_type": "markdown",
   "metadata": {},
   "source": [
    "___\n",
    "**Use a List Comprehension to create a list of all numbers between 1 and 50 that are divisible by 3.**"
   ]
  },
  {
   "cell_type": "code",
   "execution_count": 77,
   "metadata": {},
   "outputs": [
    {
     "name": "stdout",
     "output_type": "stream",
     "text": [
      "[3, 6, 9, 12, 15, 18, 21, 24, 27, 30, 33, 36, 39, 42, 45, 48]\n"
     ]
    }
   ],
   "source": [
    "#Code Here\n",
    "\n",
    "x=range(1,50)   #the range of x from 1 to 50\n",
    "\n",
    "list=[x for x in range(1, 50) if x % 3==0] #make list contain for loop in range and if statement if the number can divided by 3\n",
    "\n",
    "print(list)   #print the number list   \n",
    "\n",
    "\n",
    "\n"
   ]
  },
  {
   "cell_type": "markdown",
   "metadata": {},
   "source": [
    "_____\n",
    "**Go through the string below and if the length of a word is even print \"even!\"**"
   ]
  },
  {
   "cell_type": "code",
   "execution_count": null,
   "metadata": {},
   "outputs": [],
   "source": [
    "st = 'Print every word in this sentence that has an even number of letters'"
   ]
  },
  {
   "cell_type": "code",
   "execution_count": 71,
   "metadata": {},
   "outputs": [
    {
     "name": "stdout",
     "output_type": "stream",
     "text": [
      "word\n",
      "in\n",
      "this\n",
      "sentence\n",
      "that\n",
      "an\n",
      "even\n",
      "number\n",
      "of\n"
     ]
    }
   ],
   "source": [
    "#Code in this cell\n",
    "st = ('Print every word in this sentence that has an even number of letters')\n",
    "\n",
    "a=st.split()    # splits is a string into a list and You can specify the separator letters\n",
    "for num in a:\n",
    "    if len(num) %2==0:   #count the number of location anf if divided by 2\n",
    "        print(num)   #print num\n",
    "    "
   ]
  },
  {
   "cell_type": "markdown",
   "metadata": {},
   "source": [
    "____\n",
    "**Write a program that prints the integers from 1 to 100. But for multiples of three print \"Fizz\" instead of the number, and for the multiples of five print \"Buzz\". For numbers which are multiples of both three and five print \"FizzBuzz\".**"
   ]
  },
  {
   "cell_type": "code",
   "execution_count": 109,
   "metadata": {},
   "outputs": [
    {
     "data": {
      "text/plain": [
       "range(0, 100)"
      ]
     },
     "execution_count": 109,
     "metadata": {},
     "output_type": "execute_result"
    }
   ],
   "source": [
    "x=range(100)\n",
    "x"
   ]
  },
  {
   "cell_type": "code",
   "execution_count": 114,
   "metadata": {},
   "outputs": [
    {
     "data": {
      "text/plain": [
       "[range(1, 101)]"
      ]
     },
     "execution_count": 114,
     "metadata": {},
     "output_type": "execute_result"
    }
   ],
   "source": [
    "x=[range(1,101)]\n",
    "x"
   ]
  },
  {
   "cell_type": "code",
   "execution_count": 101,
   "metadata": {},
   "outputs": [
    {
     "name": "stdout",
     "output_type": "stream",
     "text": [
      "no\n",
      "no\n",
      "fizz\n",
      "no\n",
      "buzz\n",
      "fizz\n",
      "no\n",
      "no\n",
      "fizz\n",
      "buzz\n",
      "no\n",
      "fizz\n",
      "no\n",
      "no\n",
      "fizzbuzz\n",
      "no\n",
      "no\n",
      "fizz\n",
      "no\n",
      "buzz\n",
      "fizz\n",
      "no\n",
      "no\n",
      "fizz\n",
      "buzz\n",
      "no\n",
      "fizz\n",
      "no\n",
      "no\n",
      "fizzbuzz\n",
      "no\n",
      "no\n",
      "fizz\n",
      "no\n",
      "buzz\n",
      "fizz\n",
      "no\n",
      "no\n",
      "fizz\n",
      "buzz\n",
      "no\n",
      "fizz\n",
      "no\n",
      "no\n",
      "fizzbuzz\n",
      "no\n",
      "no\n",
      "fizz\n",
      "no\n"
     ]
    }
   ],
   "source": [
    "#Code in this cell\n",
    "\n",
    "for num in x:\n",
    "    if  num % 3==0 and num % 5==0:  #if number divided by 5 and 3\n",
    "         print('fizzbuzz')  # print fizzbuzz\n",
    "    elif num % 3==0:       #if number divided by 3\n",
    "         print('fizz')       # print fizz\n",
    "    elif num % 5==0:        #if number divided by 5\n",
    "        print('buzz')  # print buzz\n",
    "    else:\n",
    "         print('no') # print on\n",
    "       "
   ]
  },
  {
   "cell_type": "markdown",
   "metadata": {},
   "source": [
    "____\n",
    "**Use List Comprehension to create a list of the first letters of every word in the string below:**"
   ]
  },
  {
   "cell_type": "code",
   "execution_count": null,
   "metadata": {},
   "outputs": [],
   "source": [
    "st = 'Create a list of the first letters of every word in this string'"
   ]
  },
  {
   "cell_type": "code",
   "execution_count": 78,
   "metadata": {},
   "outputs": [
    {
     "data": {
      "text/plain": [
       "['C', 'a', 'l', 'o', 't', 'f', 'l', 'o', 'e', 'w', 'i', 't', 's']"
      ]
     },
     "execution_count": 78,
     "metadata": {},
     "output_type": "execute_result"
    }
   ],
   "source": [
    "#Code in this cell\n",
    "st = ['Create','a','list','of','the','first','letters','of','every','word' ,'in','this','string']   # make the word to be list\n",
    "\n",
    "[st[0][0],st[1][0],st[2][0],st[3][0],st[4][0],st[5][0],st[6][0],st[7][0],st[8][0],st[9][0],st[10][0],st[11][0],st[12][0]]  #enter the location containusly  to get the first letter"
   ]
  },
  {
   "cell_type": "markdown",
   "metadata": {},
   "source": [
    "### Great Job!"
   ]
  }
 ],
 "metadata": {
  "kernelspec": {
   "display_name": "Python 3 (ipykernel)",
   "language": "python",
   "name": "python3"
  },
  "language_info": {
   "codemirror_mode": {
    "name": "ipython",
    "version": 3
   },
   "file_extension": ".py",
   "mimetype": "text/x-python",
   "name": "python",
   "nbconvert_exporter": "python",
   "pygments_lexer": "ipython3",
   "version": "3.9.7"
  }
 },
 "nbformat": 4,
 "nbformat_minor": 1
}
