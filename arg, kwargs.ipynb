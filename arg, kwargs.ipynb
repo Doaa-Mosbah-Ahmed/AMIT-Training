{
 "cells": [
  {
   "cell_type": "code",
   "execution_count": 1,
   "id": "5f13be93",
   "metadata": {},
   "outputs": [],
   "source": [
    "# *Args:\n"
   ]
  },
  {
   "cell_type": "code",
   "execution_count": 25,
   "id": "c0e6d054",
   "metadata": {},
   "outputs": [
    {
     "name": "stdout",
     "output_type": "stream",
     "text": [
      "mul: 20\n",
      "mul: 12960\n",
      "mul: 6\n"
     ]
    }
   ],
   "source": [
    "#Using *args to pass the 3 variable number arguments to the function\n",
    "def mul(*num):\n",
    "    mul = 1\n",
    "    \n",
    "    for n in num:\n",
    "        mul = mul * n\n",
    "\n",
    "    print(\"mul:\",mul)\n",
    "\n",
    "mul(5,4)\n",
    "mul(2,5,8,9,6,3)\n",
    "mul(1,2,3)"
   ]
  },
  {
   "cell_type": "code",
   "execution_count": 38,
   "id": "82690b1d",
   "metadata": {},
   "outputs": [
    {
     "name": "stdout",
     "output_type": "stream",
     "text": [
      "GoodMorning\n",
      "Doaa\n"
     ]
    }
   ],
   "source": [
    "def myList(*word): \n",
    "    for arg in word: \n",
    "        print (arg)\n",
    "    \n",
    "myList('GoodMorning','Doaa') "
   ]
  },
  {
   "cell_type": "code",
   "execution_count": null,
   "id": "2b7374b2",
   "metadata": {},
   "outputs": [],
   "source": [
    "#**kwargs\n",
    "#Using **kwargs to pass the variable keyword arguments to the function \n"
   ]
  },
  {
   "cell_type": "code",
   "execution_count": 48,
   "id": "f91a8322",
   "metadata": {},
   "outputs": [
    {
     "name": "stdout",
     "output_type": "stream",
     "text": [
      "type: <class 'dict'>\n",
      "name is Doaa\n",
      "Age is 22\n",
      "ID is 1234\n"
     ]
    }
   ],
   "source": [
    "def kwargs(**data):\n",
    "    print(\"type:\",type(data))\n",
    "\n",
    "    for x, y in data.items():\n",
    "        print(\"{} is {}\".format(x,y))\n",
    "\n",
    "kwargs(name=\"Doaa\", Age=22, ID=1234)\n"
   ]
  },
  {
   "cell_type": "code",
   "execution_count": 59,
   "id": "5bdbfa91",
   "metadata": {},
   "outputs": [
    {
     "name": "stdout",
     "output_type": "stream",
     "text": [
      "('x', 'Doaa')\n",
      "('y', '22')\n"
     ]
    }
   ],
   "source": [
    "def myword(**kwargs): \n",
    "    for key, value in kwargs.items():\n",
    "        print ((key, value))\n",
    "  \n",
    "\n",
    "myword(x ='Doaa', y ='22')   "
   ]
  },
  {
   "cell_type": "code",
   "execution_count": null,
   "id": "9ebc7d73",
   "metadata": {},
   "outputs": [],
   "source": []
  }
 ],
 "metadata": {
  "kernelspec": {
   "display_name": "Python 3 (ipykernel)",
   "language": "python",
   "name": "python3"
  },
  "language_info": {
   "codemirror_mode": {
    "name": "ipython",
    "version": 3
   },
   "file_extension": ".py",
   "mimetype": "text/x-python",
   "name": "python",
   "nbconvert_exporter": "python",
   "pygments_lexer": "ipython3",
   "version": "3.9.7"
  }
 },
 "nbformat": 4,
 "nbformat_minor": 5
}
