{
 "cells": [
  {
   "cell_type": "markdown",
   "metadata": {},
   "source": [
    "# Assignment 3"
   ]
  },
  {
   "cell_type": "markdown",
   "metadata": {},
   "source": [
    "### Write a function to count the number 4 in a given list."
   ]
  },
  {
   "cell_type": "code",
   "execution_count": 337,
   "metadata": {},
   "outputs": [
    {
     "name": "stdout",
     "output_type": "stream",
     "text": [
      "4\n"
     ]
    }
   ],
   "source": [
    "def count(nums):\n",
    "    x = 0        #start cheak from x= 0\n",
    "    for number in nums:\n",
    "        if number == 4:\n",
    "            x+=1          #x = x + 1    \n",
    "\n",
    "    return x           #return value of x\n",
    "\n",
    "\n",
    "print(count([1,4,4,4,4,5]))"
   ]
  },
  {
   "cell_type": "markdown",
   "metadata": {},
   "source": [
    "### write a  function to check whether a number is divisible by another number."
   ]
  },
  {
   "cell_type": "code",
   "execution_count": 300,
   "metadata": {},
   "outputs": [
    {
     "name": "stdout",
     "output_type": "stream",
     "text": [
      " false\n"
     ]
    }
   ],
   "source": [
    "def cheak_number(x,y):\n",
    "    if x % y == 0:\n",
    "        return True  # if  two number accept division return true \n",
    "        \n",
    "    else :\n",
    "        print(\" false\") #the two number dont accept division print false\n",
    "\n",
    "cheak_number(6,5)"
   ]
  },
  {
   "cell_type": "code",
   "execution_count": 302,
   "metadata": {},
   "outputs": [
    {
     "name": "stdout",
     "output_type": "stream",
     "text": [
      " false\n"
     ]
    }
   ],
   "source": [
    "cheak_number(5,2)"
   ]
  },
  {
   "cell_type": "markdown",
   "metadata": {},
   "source": [
    "### write a function to find the maximum and minimum numbers from a sequence of numbers."
   ]
  },
  {
   "cell_type": "code",
   "execution_count": 282,
   "metadata": {},
   "outputs": [
    {
     "name": "stdout",
     "output_type": "stream",
     "text": [
      "('5,2', '3,8')\n"
     ]
    }
   ],
   "source": [
    "def max_min(numbers):\n",
    "    x = numbers[0] # number of index 0  \n",
    "    y = numbers[0]\n",
    "    for num in numbers:\n",
    "        if num> x:            \n",
    "            x = num\n",
    "        elif num< y:\n",
    "            y = num\n",
    "            return x, y\n",
    "        \n",
    "print(max_min(['5,2','3,8','4,4','5,5'])) #print max and min number from sequance and reject  the same number"
   ]
  },
  {
   "cell_type": "markdown",
   "metadata": {},
   "source": [
    "### Write a Python function that takes two lists and returns True if they have at least one common member."
   ]
  },
  {
   "cell_type": "code",
   "execution_count": 182,
   "metadata": {},
   "outputs": [
    {
     "name": "stdout",
     "output_type": "stream",
     "text": [
      "True\n"
     ]
    }
   ],
   "source": [
    "def common_member(list1, list2):\n",
    "    \n",
    "    for x in list1:          #let the numbers of list1 = x\n",
    "        for y in list2:         #let the numbers of list2 = y\n",
    "            if x==y:            \n",
    "                result = True    #if x equal y the result will be true\n",
    "                return result     #return true\n",
    "            \n",
    "            \n",
    "print(common_member([1,2,3,8,9], [6,8,9]))  # any two number of lists\n",
    "           \n",
    "                "
   ]
  },
  {
   "cell_type": "markdown",
   "metadata": {},
   "source": [
    "### Write a Python function to calculate the factorial of a number (a non-negative integer). The function accepts the number from the user"
   ]
  },
  {
   "cell_type": "code",
   "execution_count": 169,
   "metadata": {},
   "outputs": [
    {
     "name": "stdout",
     "output_type": "stream",
     "text": [
      "Input a number to compute the factiorial : 4\n",
      "39916800\n"
     ]
    }
   ],
   "source": [
    "def factorial(x):\n",
    "    if x == 1:       #if x = 1  return 1\n",
    "        return 1\n",
    "    else:\n",
    "        return x * factorial(x-1)   #else make factorial to input number\n",
    "n=int(input(\"enter the factiorial number : \")) \n",
    "\n",
    "print(factorial(x))     #call function"
   ]
  },
  {
   "cell_type": "markdown",
   "metadata": {},
   "source": [
    "### Write a Python function to check whether a number is in a given range.\n",
    "\n",
    "### The range is from 3 to 11\n"
   ]
  },
  {
   "cell_type": "code",
   "execution_count": 285,
   "metadata": {},
   "outputs": [
    {
     "name": "stdout",
     "output_type": "stream",
     "text": [
      " out of range.\n"
     ]
    }
   ],
   "source": [
    "def cheak_range(num):\n",
    "    if num in range(3,11):\n",
    "        print( num, 'in range')  #print number if in range of 3 to 11\n",
    "    else :\n",
    "        print(\" out of range.\") #if not in range print out of range\n",
    "\n",
    "cheak_range(12)   #put any number from 3 to 11\n"
   ]
  },
  {
   "cell_type": "code",
   "execution_count": 286,
   "metadata": {},
   "outputs": [
    {
     "name": "stdout",
     "output_type": "stream",
     "text": [
      "10 in rang\n"
     ]
    }
   ],
   "source": [
    "cheak_range(10)"
   ]
  },
  {
   "cell_type": "markdown",
   "metadata": {},
   "source": [
    "### Write a  program to create the multiplication table (from 1 to 10) of a number."
   ]
  },
  {
   "cell_type": "code",
   "execution_count": 53,
   "metadata": {},
   "outputs": [
    {
     "name": "stdout",
     "output_type": "stream",
     "text": [
      "1 x 1 = 1\n",
      "2 x 1 = 2\n",
      "3 x 1 = 3\n",
      "4 x 1 = 4\n",
      "5 x 1 = 5\n",
      "6 x 1 = 6\n",
      "7 x 1 = 7\n",
      "8 x 1 = 8\n",
      "9 x 1 = 9\n",
      "10 x 1 = 10\n"
     ]
    }
   ],
   "source": [
    "x=1 \n",
    "y=1\n",
    "while x<= 10:   #when x equal or smaller than 10\n",
    "    print(x,'x',y,'=',x*y)  # print x multiplay y\n",
    "    x+=1   #x=x+1"
   ]
  },
  {
   "cell_type": "markdown",
   "metadata": {},
   "source": [
    "#### LESSER OF TWO EVENS: Write a function that returns the lesser of two given numbers *if* both numbers are even, but returns the greater if one or both numbers are odd\n",
    "    lesser_of_two_evens(2,4) --> 2\n",
    "    lesser_of_two_evens(2,5) --> 5"
   ]
  },
  {
   "cell_type": "code",
   "execution_count": 205,
   "metadata": {},
   "outputs": [],
   "source": [
    "def lesser(x,y):\n",
    "    if x %2 == 0 and y %2 == 0:   # the both number can divided over 2   \n",
    "        return min(x,y)   # return the smaller number of given two numbers\n",
    "    else:\n",
    "        return max(x,y)   # return the greater number of given two numbers"
   ]
  },
  {
   "cell_type": "code",
   "execution_count": 211,
   "metadata": {},
   "outputs": [
    {
     "data": {
      "text/plain": [
       "5"
      ]
     },
     "execution_count": 211,
     "metadata": {},
     "output_type": "execute_result"
    }
   ],
   "source": [
    "lesser(2,5)"
   ]
  },
  {
   "cell_type": "code",
   "execution_count": 207,
   "metadata": {},
   "outputs": [
    {
     "data": {
      "text/plain": [
       "2"
      ]
     },
     "execution_count": 207,
     "metadata": {},
     "output_type": "execute_result"
    }
   ],
   "source": [
    "lesser(2,4)"
   ]
  }
 ],
 "metadata": {
  "kernelspec": {
   "display_name": "Python 3 (ipykernel)",
   "language": "python",
   "name": "python3"
  },
  "language_info": {
   "codemirror_mode": {
    "name": "ipython",
    "version": 3
   },
   "file_extension": ".py",
   "mimetype": "text/x-python",
   "name": "python",
   "nbconvert_exporter": "python",
   "pygments_lexer": "ipython3",
   "version": "3.9.7"
  }
 },
 "nbformat": 4,
 "nbformat_minor": 2
}
