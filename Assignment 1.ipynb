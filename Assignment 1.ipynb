{
 "cells": [
  {
   "cell_type": "code",
   "execution_count": 2,
   "id": "f439d158",
   "metadata": {},
   "outputs": [
    {
     "name": "stdout",
     "output_type": "stream",
     "text": [
      "enter two separate number:5 6\n",
      "First Number is:  5\n",
      "Second Number is:  6\n"
     ]
    }
   ],
   "source": [
    "#split:A function that splits data and sets each given parameter equal to the Numbers which i entered \n",
    "\n",
    "x,y=str(input('enter two separate number:')).split()   #enter two numbers\n",
    "\n",
    "print(\"First Number is: \", x)   #print the value of x\n",
    "\n",
    "print(\"Second Number is: \", y)      #print the value of y"
   ]
  },
  {
   "cell_type": "code",
   "execution_count": null,
   "id": "e8da0957",
   "metadata": {},
   "outputs": [],
   "source": []
  }
 ],
 "metadata": {
  "kernelspec": {
   "display_name": "Python 3 (ipykernel)",
   "language": "python",
   "name": "python3"
  },
  "language_info": {
   "codemirror_mode": {
    "name": "ipython",
    "version": 3
   },
   "file_extension": ".py",
   "mimetype": "text/x-python",
   "name": "python",
   "nbconvert_exporter": "python",
   "pygments_lexer": "ipython3",
   "version": "3.9.7"
  }
 },
 "nbformat": 4,
 "nbformat_minor": 5
}
