{
 "cells": [
  {
   "cell_type": "markdown",
   "id": "517150e4",
   "metadata": {},
   "source": [
    "## Encapsulation:"
   ]
  },
  {
   "cell_type": "code",
   "execution_count": 6,
   "id": "6080b94c",
   "metadata": {},
   "outputs": [],
   "source": [
    "class Employee:\n",
    "    \n",
    "    def __init__(self, name, salary, ID):\n",
    "        # data members\n",
    "        self.name = name\n",
    "        self.salary = salary\n",
    "        self.ID = ID\n",
    "\n",
    "  \n",
    "    \n",
    "    def show(self):                 # to display employee's details\n",
    "        \n",
    "        print(\"Name: \", self.name, 'Salary:', self.salary) # enter the  data \n",
    "    \n",
    "    def work(self):\n",
    "        print(self.name, 'the id', self.ID)\n",
    "\n",
    "\n",
    "\n",
    " \n"
   ]
  },
  {
   "cell_type": "code",
   "execution_count": 7,
   "id": "2584e723",
   "metadata": {},
   "outputs": [],
   "source": [
    "emp = Employee('Doaa', 10000, '1234')"
   ]
  },
  {
   "cell_type": "code",
   "execution_count": 8,
   "id": "73c59ee4",
   "metadata": {},
   "outputs": [
    {
     "name": "stdout",
     "output_type": "stream",
     "text": [
      "Name:  Doaa Salary: 10000\n",
      "Doaa the id 1234\n"
     ]
    }
   ],
   "source": [
    "emp.show()\n",
    "emp.work()  # calling"
   ]
  },
  {
   "cell_type": "code",
   "execution_count": null,
   "id": "c4554b6d",
   "metadata": {},
   "outputs": [],
   "source": []
  },
  {
   "cell_type": "markdown",
   "id": "b40f051a",
   "metadata": {},
   "source": [
    "## abstraction:"
   ]
  },
  {
   "cell_type": "code",
   "execution_count": 13,
   "id": "8f607b5b",
   "metadata": {},
   "outputs": [],
   "source": [
    "import abc\n",
    " \n",
    "class parent:      \n",
    "    def geeks(self):\n",
    "        pass\n",
    " \n",
    "class child(parent):\n",
    "    def geeks(self):\n",
    "        print(\"child class\")\n",
    " \n",
    "\n"
   ]
  },
  {
   "cell_type": "code",
   "execution_count": 10,
   "id": "3bf593d6",
   "metadata": {},
   "outputs": [
    {
     "name": "stdout",
     "output_type": "stream",
     "text": [
      "True\n",
      "True\n"
     ]
    }
   ],
   "source": [
    "print( issubclass(child, parent))\n",
    "print( isinstance(child(), parent))"
   ]
  },
  {
   "cell_type": "code",
   "execution_count": null,
   "id": "349cd1a3",
   "metadata": {},
   "outputs": [],
   "source": []
  }
 ],
 "metadata": {
  "kernelspec": {
   "display_name": "Python 3 (ipykernel)",
   "language": "python",
   "name": "python3"
  },
  "language_info": {
   "codemirror_mode": {
    "name": "ipython",
    "version": 3
   },
   "file_extension": ".py",
   "mimetype": "text/x-python",
   "name": "python",
   "nbconvert_exporter": "python",
   "pygments_lexer": "ipython3",
   "version": "3.9.7"
  }
 },
 "nbformat": 4,
 "nbformat_minor": 5
}
