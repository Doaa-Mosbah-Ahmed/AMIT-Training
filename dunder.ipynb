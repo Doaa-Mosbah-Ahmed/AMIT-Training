{
 "cells": [
  {
   "cell_type": "markdown",
   "id": "ed657d22",
   "metadata": {},
   "source": [
    "1) init"
   ]
  },
  {
   "cell_type": "code",
   "execution_count": 1,
   "id": "ed9a3785",
   "metadata": {},
   "outputs": [],
   "source": [
    "class calculator():   \n",
    "    def __init__(self,num1 ,num2): \n",
    "        self.num1 =  num1\n",
    "        self.num2 =  num2\n",
    "    def add(self):  \n",
    "        print( self.num1 + self.num2)\n",
    "    def power(self):\n",
    "        return self.num1 ** self.num2    "
   ]
  },
  {
   "cell_type": "code",
   "execution_count": 3,
   "id": "bd2b8910",
   "metadata": {},
   "outputs": [],
   "source": [
    "x=calculator(5,6)\n"
   ]
  },
  {
   "cell_type": "code",
   "execution_count": 4,
   "id": "9fc2e578",
   "metadata": {},
   "outputs": [
    {
     "name": "stdout",
     "output_type": "stream",
     "text": [
      "11\n"
     ]
    }
   ],
   "source": [
    "x.add()"
   ]
  },
  {
   "cell_type": "code",
   "execution_count": 5,
   "id": "567cad21",
   "metadata": {},
   "outputs": [
    {
     "data": {
      "text/plain": [
       "15625"
      ]
     },
     "execution_count": 5,
     "metadata": {},
     "output_type": "execute_result"
    }
   ],
   "source": [
    "x.power()"
   ]
  },
  {
   "cell_type": "markdown",
   "id": "3c948ef4",
   "metadata": {},
   "source": [
    "2)str\n"
   ]
  },
  {
   "cell_type": "code",
   "execution_count": 47,
   "id": "904a5fac",
   "metadata": {},
   "outputs": [],
   "source": [
    "class Employee:\n",
    "    def __init__(self):\n",
    "        self.name='Doaa'\n",
    "        self.ID= '12345'\n",
    "    def __str__(self):\n",
    "        return 'name='+self.name+' ID='+str(self.ID)"
   ]
  },
  {
   "cell_type": "code",
   "execution_count": 48,
   "id": "aecb0121",
   "metadata": {},
   "outputs": [],
   "source": [
    "x=Employee()"
   ]
  },
  {
   "cell_type": "code",
   "execution_count": 50,
   "id": "81698298",
   "metadata": {},
   "outputs": [
    {
     "name": "stdout",
     "output_type": "stream",
     "text": [
      "name=Doaa ID=12345\n"
     ]
    }
   ],
   "source": [
    "print(x)"
   ]
  },
  {
   "cell_type": "markdown",
   "id": "f0721516",
   "metadata": {},
   "source": [
    "3)len:"
   ]
  },
  {
   "cell_type": "code",
   "execution_count": 75,
   "id": "a53e7114",
   "metadata": {},
   "outputs": [
    {
     "name": "stdout",
     "output_type": "stream",
     "text": [
      "4\n"
     ]
    }
   ],
   "source": [
    "class Len:\n",
    "    def __init__(self, num):\n",
    "        self.num = num\n",
    "    def __len__(self):\n",
    "        return len(self.num)\n",
    "len_number = Len([1, 2, 3,4])\n",
    "print(len(len_number))"
   ]
  },
  {
   "cell_type": "markdown",
   "id": "7ae56b3f",
   "metadata": {},
   "source": [
    "4) ADD"
   ]
  },
  {
   "cell_type": "code",
   "execution_count": 80,
   "id": "733b0331",
   "metadata": {},
   "outputs": [],
   "source": [
    "class ADD:\n",
    "    def __init__(self, num):\n",
    "        self.num =num\n",
    "        \n",
    "    def __add__(self, other):\n",
    "        return Data(self.num + other.num)\n",
    "\n",
    "    "
   ]
  },
  {
   "cell_type": "code",
   "execution_count": 88,
   "id": "63beb1a0",
   "metadata": {},
   "outputs": [],
   "source": [
    "a = ADD(5)\n",
    "b = ADD(6)\n",
    "c = a + b\n"
   ]
  },
  {
   "cell_type": "code",
   "execution_count": 86,
   "id": "d9db866d",
   "metadata": {},
   "outputs": [
    {
     "name": "stdout",
     "output_type": "stream",
     "text": [
      "11\n"
     ]
    }
   ],
   "source": [
    "print(c.value)"
   ]
  },
  {
   "cell_type": "code",
   "execution_count": null,
   "id": "f2fef23c",
   "metadata": {},
   "outputs": [],
   "source": []
  }
 ],
 "metadata": {
  "kernelspec": {
   "display_name": "Python 3 (ipykernel)",
   "language": "python",
   "name": "python3"
  },
  "language_info": {
   "codemirror_mode": {
    "name": "ipython",
    "version": 3
   },
   "file_extension": ".py",
   "mimetype": "text/x-python",
   "name": "python",
   "nbconvert_exporter": "python",
   "pygments_lexer": "ipython3",
   "version": "3.9.7"
  }
 },
 "nbformat": 4,
 "nbformat_minor": 5
}
